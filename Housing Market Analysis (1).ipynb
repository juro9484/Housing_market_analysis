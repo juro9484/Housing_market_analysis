{
 "cells": [
  {
   "cell_type": "markdown",
   "id": "0cb8e76b",
   "metadata": {},
   "source": [
    "# Housing Market Analysis\n",
    "### Juan Rodriguez"
   ]
  },
  {
   "cell_type": "markdown",
   "id": "d06f3b44",
   "metadata": {},
   "source": [
    "# Index <a class=\"anchor\" id=\"Index\"><a/>\n"
   ]
  },
  {
   "cell_type": "markdown",
   "id": "bd6078db",
   "metadata": {},
   "source": [
    "* [1. Introduction](#Introduction)\n",
    "* [2. The Data](#The-Data) \n",
    "   * [2.1 Import the Data](#Import-the-Data)\n",
    "   *[2.2 Data Exploration](#Data-Exploration)\n",
    "   *[2.3 Data Preparation](#Data-Preparation)\n",
    "   *[2.4 Correlation](#Correlation)\n",
    "*[3. Project Description](#Project-Description)\n",
    "   * [3.1 Analysis](#Analysis)\n",
    "   * [3.2 Results](#Results)\n",
    "   * [3.3 Verify against test data](#Verify-against-test-data)\n",
    "*[4. Conclusion](#Conclusion)\n",
    "*[5. References](#References)\n",
    "   "
   ]
  },
  {
   "cell_type": "markdown",
   "id": "d9e7aa25",
   "metadata": {},
   "source": [
    "# Introduction <a class=\"anchor\" id=\"Introduction\"><a/> \n",
    "The purpose of this project is to determine which variables of data in a house are most correlated to it's price. If I find good correlation using training data, I will be able to accurately predict the price of a house based on data points and determine whether a house is undervalued or overvalued. I will begin with analysing the data to better understand which variables could potentially have more correlation than others, and I will clean the data so that it is all useful if need be. Then I will perform a simple numeric correlation function on the data so that it gives me the top correlated variables to sale price. Finally, using the library linear_model, I will build a linear regression model using a certain number of variables. From here, I will be able to test the model and plot it to better visualize the results."
   ]
  },
  {
   "cell_type": "markdown",
   "id": "f778bde9",
   "metadata": {},
   "source": [
    "[Back To Top](#Index)"
   ]
  },
  {
   "cell_type": "markdown",
   "id": "487baef4",
   "metadata": {},
   "source": [
    "## The Data <a class=\"anchor\" id=\"The-Data\"><a/> "
   ]
  },
  {
   "cell_type": "markdown",
   "id": "31889670",
   "metadata": {},
   "source": [
    "### 2.1 Import the Data <a class=\"anchor\" id=\"Import-the-Data\"><a/> "
   ]
  },
  {
   "cell_type": "code",
   "execution_count": 3,
   "id": "09c2d1b6",
   "metadata": {},
   "outputs": [],
   "source": [
    "import pandas as pd\n",
    "import numpy as np\n",
    "import matplotlib as matplotlib\n",
    "from matplotlib import pyplot as plt\n",
    "from sklearn import linear_model"
   ]
  },
  {
   "cell_type": "code",
   "execution_count": 4,
   "id": "7b0f5b04",
   "metadata": {},
   "outputs": [
    {
     "data": {
      "text/html": [
       "<div>\n",
       "<style scoped>\n",
       "    .dataframe tbody tr th:only-of-type {\n",
       "        vertical-align: middle;\n",
       "    }\n",
       "\n",
       "    .dataframe tbody tr th {\n",
       "        vertical-align: top;\n",
       "    }\n",
       "\n",
       "    .dataframe thead th {\n",
       "        text-align: right;\n",
       "    }\n",
       "</style>\n",
       "<table border=\"1\" class=\"dataframe\">\n",
       "  <thead>\n",
       "    <tr style=\"text-align: right;\">\n",
       "      <th></th>\n",
       "      <th>Unnamed: 0</th>\n",
       "      <th>Id</th>\n",
       "      <th>MSSubClass</th>\n",
       "      <th>MSZoning</th>\n",
       "      <th>LotFrontage</th>\n",
       "      <th>LotArea</th>\n",
       "      <th>Street</th>\n",
       "      <th>Alley</th>\n",
       "      <th>LotShape</th>\n",
       "      <th>LandContour</th>\n",
       "      <th>...</th>\n",
       "      <th>PoolArea</th>\n",
       "      <th>PoolQC</th>\n",
       "      <th>Fence</th>\n",
       "      <th>MiscFeature</th>\n",
       "      <th>MiscVal</th>\n",
       "      <th>MoSold</th>\n",
       "      <th>YrSold</th>\n",
       "      <th>SaleType</th>\n",
       "      <th>SaleCondition</th>\n",
       "      <th>SalePrice</th>\n",
       "    </tr>\n",
       "  </thead>\n",
       "  <tbody>\n",
       "    <tr>\n",
       "      <th>0</th>\n",
       "      <td>0</td>\n",
       "      <td>1</td>\n",
       "      <td>60</td>\n",
       "      <td>RL</td>\n",
       "      <td>65.0</td>\n",
       "      <td>8450</td>\n",
       "      <td>Pave</td>\n",
       "      <td>NaN</td>\n",
       "      <td>Reg</td>\n",
       "      <td>Lvl</td>\n",
       "      <td>...</td>\n",
       "      <td>0</td>\n",
       "      <td>NaN</td>\n",
       "      <td>NaN</td>\n",
       "      <td>NaN</td>\n",
       "      <td>0</td>\n",
       "      <td>2</td>\n",
       "      <td>2008</td>\n",
       "      <td>WD</td>\n",
       "      <td>Normal</td>\n",
       "      <td>208500</td>\n",
       "    </tr>\n",
       "    <tr>\n",
       "      <th>1</th>\n",
       "      <td>1</td>\n",
       "      <td>2</td>\n",
       "      <td>20</td>\n",
       "      <td>RL</td>\n",
       "      <td>80.0</td>\n",
       "      <td>9600</td>\n",
       "      <td>Pave</td>\n",
       "      <td>NaN</td>\n",
       "      <td>Reg</td>\n",
       "      <td>Lvl</td>\n",
       "      <td>...</td>\n",
       "      <td>0</td>\n",
       "      <td>NaN</td>\n",
       "      <td>NaN</td>\n",
       "      <td>NaN</td>\n",
       "      <td>0</td>\n",
       "      <td>5</td>\n",
       "      <td>2007</td>\n",
       "      <td>WD</td>\n",
       "      <td>Normal</td>\n",
       "      <td>181500</td>\n",
       "    </tr>\n",
       "    <tr>\n",
       "      <th>2</th>\n",
       "      <td>2</td>\n",
       "      <td>3</td>\n",
       "      <td>60</td>\n",
       "      <td>RL</td>\n",
       "      <td>68.0</td>\n",
       "      <td>11250</td>\n",
       "      <td>Pave</td>\n",
       "      <td>NaN</td>\n",
       "      <td>IR1</td>\n",
       "      <td>Lvl</td>\n",
       "      <td>...</td>\n",
       "      <td>0</td>\n",
       "      <td>NaN</td>\n",
       "      <td>NaN</td>\n",
       "      <td>NaN</td>\n",
       "      <td>0</td>\n",
       "      <td>9</td>\n",
       "      <td>2008</td>\n",
       "      <td>WD</td>\n",
       "      <td>Normal</td>\n",
       "      <td>223500</td>\n",
       "    </tr>\n",
       "    <tr>\n",
       "      <th>3</th>\n",
       "      <td>3</td>\n",
       "      <td>4</td>\n",
       "      <td>70</td>\n",
       "      <td>RL</td>\n",
       "      <td>60.0</td>\n",
       "      <td>9550</td>\n",
       "      <td>Pave</td>\n",
       "      <td>NaN</td>\n",
       "      <td>IR1</td>\n",
       "      <td>Lvl</td>\n",
       "      <td>...</td>\n",
       "      <td>0</td>\n",
       "      <td>NaN</td>\n",
       "      <td>NaN</td>\n",
       "      <td>NaN</td>\n",
       "      <td>0</td>\n",
       "      <td>2</td>\n",
       "      <td>2006</td>\n",
       "      <td>WD</td>\n",
       "      <td>Abnorml</td>\n",
       "      <td>140000</td>\n",
       "    </tr>\n",
       "    <tr>\n",
       "      <th>4</th>\n",
       "      <td>4</td>\n",
       "      <td>5</td>\n",
       "      <td>60</td>\n",
       "      <td>RL</td>\n",
       "      <td>84.0</td>\n",
       "      <td>14260</td>\n",
       "      <td>Pave</td>\n",
       "      <td>NaN</td>\n",
       "      <td>IR1</td>\n",
       "      <td>Lvl</td>\n",
       "      <td>...</td>\n",
       "      <td>0</td>\n",
       "      <td>NaN</td>\n",
       "      <td>NaN</td>\n",
       "      <td>NaN</td>\n",
       "      <td>0</td>\n",
       "      <td>12</td>\n",
       "      <td>2008</td>\n",
       "      <td>WD</td>\n",
       "      <td>Normal</td>\n",
       "      <td>250000</td>\n",
       "    </tr>\n",
       "    <tr>\n",
       "      <th>...</th>\n",
       "      <td>...</td>\n",
       "      <td>...</td>\n",
       "      <td>...</td>\n",
       "      <td>...</td>\n",
       "      <td>...</td>\n",
       "      <td>...</td>\n",
       "      <td>...</td>\n",
       "      <td>...</td>\n",
       "      <td>...</td>\n",
       "      <td>...</td>\n",
       "      <td>...</td>\n",
       "      <td>...</td>\n",
       "      <td>...</td>\n",
       "      <td>...</td>\n",
       "      <td>...</td>\n",
       "      <td>...</td>\n",
       "      <td>...</td>\n",
       "      <td>...</td>\n",
       "      <td>...</td>\n",
       "      <td>...</td>\n",
       "      <td>...</td>\n",
       "    </tr>\n",
       "    <tr>\n",
       "      <th>95</th>\n",
       "      <td>95</td>\n",
       "      <td>96</td>\n",
       "      <td>60</td>\n",
       "      <td>RL</td>\n",
       "      <td>NaN</td>\n",
       "      <td>9765</td>\n",
       "      <td>Pave</td>\n",
       "      <td>NaN</td>\n",
       "      <td>IR2</td>\n",
       "      <td>Lvl</td>\n",
       "      <td>...</td>\n",
       "      <td>0</td>\n",
       "      <td>NaN</td>\n",
       "      <td>NaN</td>\n",
       "      <td>Shed</td>\n",
       "      <td>480</td>\n",
       "      <td>4</td>\n",
       "      <td>2009</td>\n",
       "      <td>WD</td>\n",
       "      <td>Normal</td>\n",
       "      <td>185000</td>\n",
       "    </tr>\n",
       "    <tr>\n",
       "      <th>96</th>\n",
       "      <td>96</td>\n",
       "      <td>97</td>\n",
       "      <td>20</td>\n",
       "      <td>RL</td>\n",
       "      <td>78.0</td>\n",
       "      <td>10264</td>\n",
       "      <td>Pave</td>\n",
       "      <td>NaN</td>\n",
       "      <td>IR1</td>\n",
       "      <td>Lvl</td>\n",
       "      <td>...</td>\n",
       "      <td>0</td>\n",
       "      <td>NaN</td>\n",
       "      <td>NaN</td>\n",
       "      <td>NaN</td>\n",
       "      <td>0</td>\n",
       "      <td>8</td>\n",
       "      <td>2006</td>\n",
       "      <td>WD</td>\n",
       "      <td>Normal</td>\n",
       "      <td>214000</td>\n",
       "    </tr>\n",
       "    <tr>\n",
       "      <th>97</th>\n",
       "      <td>97</td>\n",
       "      <td>98</td>\n",
       "      <td>20</td>\n",
       "      <td>RL</td>\n",
       "      <td>73.0</td>\n",
       "      <td>10921</td>\n",
       "      <td>Pave</td>\n",
       "      <td>NaN</td>\n",
       "      <td>Reg</td>\n",
       "      <td>HLS</td>\n",
       "      <td>...</td>\n",
       "      <td>0</td>\n",
       "      <td>NaN</td>\n",
       "      <td>NaN</td>\n",
       "      <td>NaN</td>\n",
       "      <td>0</td>\n",
       "      <td>5</td>\n",
       "      <td>2007</td>\n",
       "      <td>WD</td>\n",
       "      <td>Normal</td>\n",
       "      <td>94750</td>\n",
       "    </tr>\n",
       "    <tr>\n",
       "      <th>98</th>\n",
       "      <td>98</td>\n",
       "      <td>99</td>\n",
       "      <td>30</td>\n",
       "      <td>RL</td>\n",
       "      <td>85.0</td>\n",
       "      <td>10625</td>\n",
       "      <td>Pave</td>\n",
       "      <td>NaN</td>\n",
       "      <td>Reg</td>\n",
       "      <td>Lvl</td>\n",
       "      <td>...</td>\n",
       "      <td>0</td>\n",
       "      <td>NaN</td>\n",
       "      <td>NaN</td>\n",
       "      <td>Shed</td>\n",
       "      <td>400</td>\n",
       "      <td>5</td>\n",
       "      <td>2010</td>\n",
       "      <td>COD</td>\n",
       "      <td>Abnorml</td>\n",
       "      <td>83000</td>\n",
       "    </tr>\n",
       "    <tr>\n",
       "      <th>99</th>\n",
       "      <td>99</td>\n",
       "      <td>100</td>\n",
       "      <td>20</td>\n",
       "      <td>RL</td>\n",
       "      <td>77.0</td>\n",
       "      <td>9320</td>\n",
       "      <td>Pave</td>\n",
       "      <td>NaN</td>\n",
       "      <td>IR1</td>\n",
       "      <td>Lvl</td>\n",
       "      <td>...</td>\n",
       "      <td>0</td>\n",
       "      <td>NaN</td>\n",
       "      <td>NaN</td>\n",
       "      <td>Shed</td>\n",
       "      <td>400</td>\n",
       "      <td>1</td>\n",
       "      <td>2010</td>\n",
       "      <td>WD</td>\n",
       "      <td>Normal</td>\n",
       "      <td>128950</td>\n",
       "    </tr>\n",
       "  </tbody>\n",
       "</table>\n",
       "<p>100 rows × 82 columns</p>\n",
       "</div>"
      ],
      "text/plain": [
       "    Unnamed: 0   Id  MSSubClass MSZoning  LotFrontage  LotArea Street Alley  \\\n",
       "0            0    1          60       RL         65.0     8450   Pave   NaN   \n",
       "1            1    2          20       RL         80.0     9600   Pave   NaN   \n",
       "2            2    3          60       RL         68.0    11250   Pave   NaN   \n",
       "3            3    4          70       RL         60.0     9550   Pave   NaN   \n",
       "4            4    5          60       RL         84.0    14260   Pave   NaN   \n",
       "..         ...  ...         ...      ...          ...      ...    ...   ...   \n",
       "95          95   96          60       RL          NaN     9765   Pave   NaN   \n",
       "96          96   97          20       RL         78.0    10264   Pave   NaN   \n",
       "97          97   98          20       RL         73.0    10921   Pave   NaN   \n",
       "98          98   99          30       RL         85.0    10625   Pave   NaN   \n",
       "99          99  100          20       RL         77.0     9320   Pave   NaN   \n",
       "\n",
       "   LotShape LandContour  ... PoolArea PoolQC Fence MiscFeature MiscVal MoSold  \\\n",
       "0       Reg         Lvl  ...        0    NaN   NaN         NaN       0      2   \n",
       "1       Reg         Lvl  ...        0    NaN   NaN         NaN       0      5   \n",
       "2       IR1         Lvl  ...        0    NaN   NaN         NaN       0      9   \n",
       "3       IR1         Lvl  ...        0    NaN   NaN         NaN       0      2   \n",
       "4       IR1         Lvl  ...        0    NaN   NaN         NaN       0     12   \n",
       "..      ...         ...  ...      ...    ...   ...         ...     ...    ...   \n",
       "95      IR2         Lvl  ...        0    NaN   NaN        Shed     480      4   \n",
       "96      IR1         Lvl  ...        0    NaN   NaN         NaN       0      8   \n",
       "97      Reg         HLS  ...        0    NaN   NaN         NaN       0      5   \n",
       "98      Reg         Lvl  ...        0    NaN   NaN        Shed     400      5   \n",
       "99      IR1         Lvl  ...        0    NaN   NaN        Shed     400      1   \n",
       "\n",
       "   YrSold SaleType  SaleCondition  SalePrice  \n",
       "0    2008       WD         Normal     208500  \n",
       "1    2007       WD         Normal     181500  \n",
       "2    2008       WD         Normal     223500  \n",
       "3    2006       WD        Abnorml     140000  \n",
       "4    2008       WD         Normal     250000  \n",
       "..    ...      ...            ...        ...  \n",
       "95   2009       WD         Normal     185000  \n",
       "96   2006       WD         Normal     214000  \n",
       "97   2007       WD         Normal      94750  \n",
       "98   2010      COD        Abnorml      83000  \n",
       "99   2010       WD         Normal     128950  \n",
       "\n",
       "[100 rows x 82 columns]"
      ]
     },
     "execution_count": 4,
     "metadata": {},
     "output_type": "execute_result"
    }
   ],
   "source": [
    "df1 = pd.read_csv('HouseSmallData.csv')\n",
    "df1"
   ]
  },
  {
   "cell_type": "markdown",
   "id": "901586d4",
   "metadata": {},
   "source": [
    "In the code above, I imported all the necessary libraries for this project and I have loaded the raw data into a variable"
   ]
  },
  {
   "cell_type": "markdown",
   "id": "795810a6",
   "metadata": {},
   "source": [
    "[Back To Top](#Index)"
   ]
  },
  {
   "cell_type": "markdown",
   "id": "afd77934",
   "metadata": {},
   "source": [
    "### 2.2 Data Exploration <a class=\"anchor\" id=\"Data-Exploration\"><a/> "
   ]
  },
  {
   "cell_type": "code",
   "execution_count": 86,
   "id": "b1aa69cc",
   "metadata": {},
   "outputs": [],
   "source": [
    "y = df1['SalePrice']\n",
    "x1 = df1['OverallQual']\n",
    "x2 = df1['OverallCond']\n",
    "x3 = df1['BldgType']\n",
    "x4 = df1['Neighborhood']\n",
    "x6 = df1['TotRmsAbvGrd']\n",
    "x7 = df1['GrLivArea']\n",
    "x8 = df1['FullBath']\n",
    "x9 = df1['KitchenQual']\n",
    "x10 = df1['MasVnrArea']"
   ]
  },
  {
   "cell_type": "code",
   "execution_count": 87,
   "id": "c54eb752",
   "metadata": {},
   "outputs": [
    {
     "data": {
      "image/png": "[encoded data removed]",
      "text/plain": [
       "<Figure size 432x288 with 1 Axes>"
      ]
     },
     "metadata": {
      "needs_background": "light"
     },
     "output_type": "display_data"
    }
   ],
   "source": [
    "OverallQualPlt = plt.scatter(x1,y)"
   ]
  },
  {
   "cell_type": "markdown",
   "id": "a93edc12",
   "metadata": {},
   "source": [
    "For this variable, there is clearly correlation between overall quality and saleprice"
   ]
  },
  {
   "cell_type": "code",
   "execution_count": 88,
   "id": "2ac8b27e",
   "metadata": {},
   "outputs": [
    {
     "data": {
      "image/png": "[encoded data removed]",
      "text/plain": [
       "<Figure size 432x288 with 1 Axes>"
      ]
     },
     "metadata": {
      "needs_background": "light"
     },
     "output_type": "display_data"
    }
   ],
   "source": [
    "OverallCondPlt = plt.scatter(x2,y)"
   ]
  },
  {
   "cell_type": "markdown",
   "id": "3a921464",
   "metadata": {},
   "source": [
    "There seems to be weak correlation between overall condition and saleprice"
   ]
  },
  {
   "cell_type": "code",
   "execution_count": 89,
   "id": "11729e53",
   "metadata": {},
   "outputs": [
    {
     "data": {
      "image/png": "[encoded data removed]",
      "text/plain": [
       "<Figure size 432x288 with 1 Axes>"
      ]
     },
     "metadata": {
      "needs_background": "light"
     },
     "output_type": "display_data"
    }
   ],
   "source": [
    "BldgTypedf = df1[['BldgType','SalePrice']].sort_values(['SalePrice'])\n",
    "BldgTypeplt = plt.scatter(BldgTypedf['BldgType'],BldgTypedf['SalePrice'])"
   ]
  },
  {
   "cell_type": "markdown",
   "id": "b162f442",
   "metadata": {},
   "source": [
    "There seems to be a little correlation between building type and saleprice"
   ]
  },
  {
   "cell_type": "code",
   "execution_count": 90,
   "id": "ddafbb68",
   "metadata": {},
   "outputs": [
    {
     "data": {
      "image/png": "[encoded data removed]",
      "text/plain": [
       "<Figure size 432x288 with 1 Axes>"
      ]
     },
     "metadata": {
      "needs_background": "light"
     },
     "output_type": "display_data"
    }
   ],
   "source": [
    "Neighborhooddf = df1[['Neighborhood','SalePrice']].sort_values(['SalePrice'])\n",
    "# Neighborhoodplt = plt.scatter(Neighborhooddf['Neighborhood'],BldgTypedf['SalePrice'])\n",
    "axs = plt.subplot()\n",
    "axs.scatter(Neighborhooddf['Neighborhood'],Neighborhooddf['SalePrice'])\n",
    "axs.tick_params(axis='x',labelrotation=45)\n",
    "# axs.set_xticklabels(axs.get_xticks(), rotation=90)"
   ]
  },
  {
   "cell_type": "markdown",
   "id": "165cbd8e",
   "metadata": {},
   "source": [
    "There is definetly correlation between neighborhood and sale price"
   ]
  },
  {
   "cell_type": "code",
   "execution_count": 91,
   "id": "8dfcf345",
   "metadata": {},
   "outputs": [
    {
     "data": {
      "image/png": "[encoded data removed]",
      "text/plain": [
       "<Figure size 432x288 with 1 Axes>"
      ]
     },
     "metadata": {
      "needs_background": "light"
     },
     "output_type": "display_data"
    }
   ],
   "source": [
    "TotRmsAbvGrdPlt = plt.scatter(x6,y)"
   ]
  },
  {
   "cell_type": "markdown",
   "id": "451b57f1",
   "metadata": {},
   "source": [
    "Positive correlation between total rooms above ground and sale price"
   ]
  },
  {
   "cell_type": "code",
   "execution_count": 92,
   "id": "633f779d",
   "metadata": {},
   "outputs": [
    {
     "data": {
      "image/png": "[encoded data removed]",
      "text/plain": [
       "<Figure size 432x288 with 1 Axes>"
      ]
     },
     "metadata": {
      "needs_background": "light"
     },
     "output_type": "display_data"
    }
   ],
   "source": [
    "GrLivAreaPlt = plt.scatter(x7,y)"
   ]
  },
  {
   "cell_type": "markdown",
   "id": "0d1eb7f2",
   "metadata": {},
   "source": [
    "Positive correlation between living area above grouns in sqr feet and sale price"
   ]
  },
  {
   "cell_type": "code",
   "execution_count": 93,
   "id": "c47fe39f",
   "metadata": {},
   "outputs": [
    {
     "data": {
      "image/png": "[encoded data removed]",
      "text/plain": [
       "<Figure size 432x288 with 1 Axes>"
      ]
     },
     "metadata": {
      "needs_background": "light"
     },
     "output_type": "display_data"
    }
   ],
   "source": [
    "FullBathPlt = plt.scatter(x8,y)"
   ]
  },
  {
   "cell_type": "markdown",
   "id": "c39caace",
   "metadata": {},
   "source": [
    "Positive correlation between number of full baths and sale price "
   ]
  },
  {
   "cell_type": "code",
   "execution_count": 94,
   "id": "a840b904",
   "metadata": {},
   "outputs": [
    {
     "data": {
      "image/png": "[encoded data removed]",
      "text/plain": [
       "<Figure size 432x288 with 1 Axes>"
      ]
     },
     "metadata": {
      "needs_background": "light"
     },
     "output_type": "display_data"
    }
   ],
   "source": [
    "KitchenQualdf = df1[['KitchenQual','SalePrice']].sort_values(['SalePrice'])\n",
    "KitchenQualplt = plt.scatter(KitchenQualdf['KitchenQual'],BldgTypedf['SalePrice'])"
   ]
  },
  {
   "cell_type": "markdown",
   "id": "2f80decb",
   "metadata": {},
   "source": [
    "Some postivie correlation between kitchen quality and sales price"
   ]
  },
  {
   "cell_type": "code",
   "execution_count": 95,
   "id": "5e1297bd",
   "metadata": {},
   "outputs": [
    {
     "data": {
      "image/png": "[encoded data removed]",
      "text/plain": [
       "<Figure size 432x288 with 1 Axes>"
      ]
     },
     "metadata": {
      "needs_background": "light"
     },
     "output_type": "display_data"
    }
   ],
   "source": [
    "MasVnrArea = plt.scatter(x10, y)"
   ]
  },
  {
   "cell_type": "markdown",
   "id": "1a029368",
   "metadata": {},
   "source": [
    "Not very strong correlation between MasVnrArea and Sales price"
   ]
  },
  {
   "cell_type": "markdown",
   "id": "21a51886",
   "metadata": {},
   "source": [
    "[Back To Top](#Index)"
   ]
  },
  {
   "cell_type": "markdown",
   "id": "b9edbbf2",
   "metadata": {},
   "source": [
    "### 2.3 Data Preparation <a class=\"anchor\" id=\"Data-Preparation\"><a/> "
   ]
  },
  {
   "cell_type": "code",
   "execution_count": 96,
   "id": "2f16cf54",
   "metadata": {},
   "outputs": [
    {
     "data": {
      "image/png": "[encoded data removed]",
      "text/plain": [
       "<Figure size 432x288 with 1 Axes>"
      ]
     },
     "metadata": {
      "needs_background": "light"
     },
     "output_type": "display_data"
    }
   ],
   "source": [
    "Neighborhooddf = df1[['Neighborhood','SalePrice']].sort_values(['SalePrice'])\n",
    "# Neighborhoodplt = plt.scatter(Neighborhooddf['Neighborhood'],BldgTypedf['SalePrice'])\n",
    "axs = plt.subplot()\n",
    "axs.scatter(Neighborhooddf['Neighborhood'],Neighborhooddf['SalePrice'])\n",
    "axs.tick_params(axis='x',labelrotation=45)\n",
    "# axs.set_xticklabels(axs.get_xticks(), rotation=90)"
   ]
  },
  {
   "cell_type": "code",
   "execution_count": 98,
   "id": "9a323bf5",
   "metadata": {},
   "outputs": [
    {
     "data": {
      "text/html": [
       "<div>\n",
       "<style scoped>\n",
       "    .dataframe tbody tr th:only-of-type {\n",
       "        vertical-align: middle;\n",
       "    }\n",
       "\n",
       "    .dataframe tbody tr th {\n",
       "        vertical-align: top;\n",
       "    }\n",
       "\n",
       "    .dataframe thead th {\n",
       "        text-align: right;\n",
       "    }\n",
       "</style>\n",
       "<table border=\"1\" class=\"dataframe\">\n",
       "  <thead>\n",
       "    <tr style=\"text-align: right;\">\n",
       "      <th></th>\n",
       "      <th>SalePrice</th>\n",
       "      <th>OverallQual</th>\n",
       "      <th>OverallCond</th>\n",
       "      <th>BldgType</th>\n",
       "      <th>Neighborhood</th>\n",
       "      <th>TotRmsAbvGrd</th>\n",
       "      <th>GrLivArea</th>\n",
       "      <th>FullBath</th>\n",
       "      <th>KitchenQual</th>\n",
       "    </tr>\n",
       "  </thead>\n",
       "  <tbody>\n",
       "    <tr>\n",
       "      <th>30</th>\n",
       "      <td>40000</td>\n",
       "      <td>4</td>\n",
       "      <td>4</td>\n",
       "      <td>1</td>\n",
       "      <td>3</td>\n",
       "      <td>6</td>\n",
       "      <td>1317</td>\n",
       "      <td>1</td>\n",
       "      <td>1</td>\n",
       "    </tr>\n",
       "    <tr>\n",
       "      <th>29</th>\n",
       "      <td>68500</td>\n",
       "      <td>4</td>\n",
       "      <td>6</td>\n",
       "      <td>1</td>\n",
       "      <td>4</td>\n",
       "      <td>4</td>\n",
       "      <td>520</td>\n",
       "      <td>1</td>\n",
       "      <td>2</td>\n",
       "    </tr>\n",
       "    <tr>\n",
       "      <th>68</th>\n",
       "      <td>80000</td>\n",
       "      <td>4</td>\n",
       "      <td>6</td>\n",
       "      <td>1</td>\n",
       "      <td>5</td>\n",
       "      <td>4</td>\n",
       "      <td>747</td>\n",
       "      <td>1</td>\n",
       "      <td>1</td>\n",
       "    </tr>\n",
       "    <tr>\n",
       "      <th>39</th>\n",
       "      <td>82000</td>\n",
       "      <td>4</td>\n",
       "      <td>5</td>\n",
       "      <td>2</td>\n",
       "      <td>1</td>\n",
       "      <td>6</td>\n",
       "      <td>1152</td>\n",
       "      <td>2</td>\n",
       "      <td>2</td>\n",
       "    </tr>\n",
       "    <tr>\n",
       "      <th>98</th>\n",
       "      <td>83000</td>\n",
       "      <td>5</td>\n",
       "      <td>5</td>\n",
       "      <td>1</td>\n",
       "      <td>1</td>\n",
       "      <td>5</td>\n",
       "      <td>835</td>\n",
       "      <td>1</td>\n",
       "      <td>1</td>\n",
       "    </tr>\n",
       "    <tr>\n",
       "      <th>...</th>\n",
       "      <td>...</td>\n",
       "      <td>...</td>\n",
       "      <td>...</td>\n",
       "      <td>...</td>\n",
       "      <td>...</td>\n",
       "      <td>...</td>\n",
       "      <td>...</td>\n",
       "      <td>...</td>\n",
       "      <td>...</td>\n",
       "    </tr>\n",
       "    <tr>\n",
       "      <th>45</th>\n",
       "      <td>319900</td>\n",
       "      <td>9</td>\n",
       "      <td>5</td>\n",
       "      <td>5</td>\n",
       "      <td>19</td>\n",
       "      <td>6</td>\n",
       "      <td>1752</td>\n",
       "      <td>2</td>\n",
       "      <td>4</td>\n",
       "    </tr>\n",
       "    <tr>\n",
       "      <th>20</th>\n",
       "      <td>325300</td>\n",
       "      <td>8</td>\n",
       "      <td>5</td>\n",
       "      <td>1</td>\n",
       "      <td>19</td>\n",
       "      <td>9</td>\n",
       "      <td>2376</td>\n",
       "      <td>3</td>\n",
       "      <td>3</td>\n",
       "    </tr>\n",
       "    <tr>\n",
       "      <th>11</th>\n",
       "      <td>345000</td>\n",
       "      <td>9</td>\n",
       "      <td>5</td>\n",
       "      <td>1</td>\n",
       "      <td>19</td>\n",
       "      <td>11</td>\n",
       "      <td>2324</td>\n",
       "      <td>3</td>\n",
       "      <td>4</td>\n",
       "    </tr>\n",
       "    <tr>\n",
       "      <th>53</th>\n",
       "      <td>385000</td>\n",
       "      <td>9</td>\n",
       "      <td>5</td>\n",
       "      <td>1</td>\n",
       "      <td>17</td>\n",
       "      <td>5</td>\n",
       "      <td>1842</td>\n",
       "      <td>0</td>\n",
       "      <td>3</td>\n",
       "    </tr>\n",
       "    <tr>\n",
       "      <th>58</th>\n",
       "      <td>438780</td>\n",
       "      <td>10</td>\n",
       "      <td>5</td>\n",
       "      <td>1</td>\n",
       "      <td>22</td>\n",
       "      <td>10</td>\n",
       "      <td>2945</td>\n",
       "      <td>3</td>\n",
       "      <td>3</td>\n",
       "    </tr>\n",
       "  </tbody>\n",
       "</table>\n",
       "<p>100 rows × 9 columns</p>\n",
       "</div>"
      ],
      "text/plain": [
       "    SalePrice  OverallQual  OverallCond  BldgType  Neighborhood  TotRmsAbvGrd  \\\n",
       "30      40000            4            4         1             3             6   \n",
       "29      68500            4            6         1             4             4   \n",
       "68      80000            4            6         1             5             4   \n",
       "39      82000            4            5         2             1             6   \n",
       "98      83000            5            5         1             1             5   \n",
       "..        ...          ...          ...       ...           ...           ...   \n",
       "45     319900            9            5         5            19             6   \n",
       "20     325300            8            5         1            19             9   \n",
       "11     345000            9            5         1            19            11   \n",
       "53     385000            9            5         1            17             5   \n",
       "58     438780           10            5         1            22            10   \n",
       "\n",
       "    GrLivArea  FullBath  KitchenQual  \n",
       "30       1317         1            1  \n",
       "29        520         1            2  \n",
       "68        747         1            1  \n",
       "39       1152         2            2  \n",
       "98        835         1            1  \n",
       "..        ...       ...          ...  \n",
       "45       1752         2            4  \n",
       "20       2376         3            3  \n",
       "11       2324         3            4  \n",
       "53       1842         0            3  \n",
       "58       2945         3            3  \n",
       "\n",
       "[100 rows x 9 columns]"
      ]
     },
     "execution_count": 98,
     "metadata": {},
     "output_type": "execute_result"
    }
   ],
   "source": [
    "df2 = df1\n",
    "trainDF = df2[['SalePrice','OverallQual','OverallCond','BldgType','Neighborhood','TotRmsAbvGrd','GrLivArea','FullBath','KitchenQual']].sort_values('SalePrice')\n",
    "trainDF.loc[trainDF['BldgType'] == '1Fam', 'BldgType'] = 1\n",
    "trainDF.loc[trainDF['BldgType'] == 'Duplex', 'BldgType'] = 2\n",
    "trainDF.loc[trainDF['BldgType'] == 'Twnhs', 'BldgType'] = 3\n",
    "trainDF.loc[trainDF['BldgType'] == '2fmCon', 'BldgType'] = 4\n",
    "trainDF.loc[trainDF['BldgType'] == 'TwnhsE', 'BldgType'] = 5\n",
    "\n",
    "trainDF['BldgType'] = np.int64(trainDF['BldgType'])\n",
    "\n",
    "trainDF.loc[trainDF['KitchenQual'] == 'Po', 'KitchenQual'] = 0\n",
    "trainDF.loc[trainDF['KitchenQual'] == 'TA', 'KitchenQual'] = 1\n",
    "trainDF.loc[trainDF['KitchenQual'] == 'Fa', 'KitchenQual'] = 2\n",
    "trainDF.loc[trainDF['KitchenQual'] == 'Gd', 'KitchenQual'] = 3\n",
    "trainDF.loc[trainDF['KitchenQual'] == 'Ex', 'KitchenQual'] = 4\n",
    "\n",
    "trainDF['KitchenQual'] = np.int64(trainDF['KitchenQual'])\n",
    "\n",
    "\n",
    "trainDF.loc[trainDF['Neighborhood'] == 'Edwards', 'Neighborhood'] = 1\n",
    "trainDF.loc[trainDF['Neighborhood'] == 'NPkVill', 'Neighborhood'] = 2\n",
    "trainDF.loc[trainDF['Neighborhood'] == 'IDOTRR', 'Neighborhood'] = 3\n",
    "trainDF.loc[trainDF['Neighborhood'] == 'BrkSide', 'Neighborhood'] = 4\n",
    "trainDF.loc[trainDF['Neighborhood'] == 'OldTown', 'Neighborhood'] = 5\n",
    "trainDF.loc[trainDF['Neighborhood'] == 'Edwards', 'Neighborhood'] = 6\n",
    "trainDF.loc[trainDF['Neighborhood'] == 'Sawyer', 'Neighborhood'] = 7\n",
    "trainDF.loc[trainDF['Neighborhood'] == 'MeadowV', 'Neighborhood'] = 8\n",
    "trainDF.loc[trainDF['Neighborhood'] == 'NAmes', 'Neighborhood'] = 9\n",
    "trainDF.loc[trainDF['Neighborhood'] == 'CollgCr', 'Neighborhood'] = 10\n",
    "trainDF.loc[trainDF['Neighborhood'] == 'Mitchel', 'Neighborhood'] = 11\n",
    "trainDF.loc[trainDF['Neighborhood'] == 'Crawfor', 'Neighborhood'] = 12\n",
    "trainDF.loc[trainDF['Neighborhood'] == 'SawyerW', 'Neighborhood'] = 13\n",
    "trainDF.loc[trainDF['Neighborhood'] == 'Somerst', 'Neighborhood'] = 14\n",
    "trainDF.loc[trainDF['Neighborhood'] == 'Gilbert', 'Neighborhood'] = 15\n",
    "trainDF.loc[trainDF['Neighborhood'] == 'Timber', 'Neighborhood'] = 16\n",
    "trainDF.loc[trainDF['Neighborhood'] == 'Veenker', 'Neighborhood'] = 17\n",
    "trainDF.loc[trainDF['Neighborhood'] == 'NWAmes', 'Neighborhood'] = 18\n",
    "trainDF.loc[trainDF['Neighborhood'] == 'NridgHt', 'Neighborhood'] = 19\n",
    "trainDF.loc[trainDF['Neighborhood'] == 'ClearCr', 'Neighborhood'] = 20\n",
    "trainDF.loc[trainDF['Neighborhood'] == 'NoRidge', 'Neighborhood'] = 21\n",
    "trainDF.loc[trainDF['Neighborhood'] == 'StoneBr', 'Neighborhood'] = 22\n",
    "trainDF.loc[trainDF['Neighborhood'] == 'Blmngtn', 'Neighborhood'] = 23\n",
    "trainDF.loc[trainDF['Neighborhood'] == 'Blueste', 'Neighborhood'] = 24\n",
    "trainDF.loc[trainDF['Neighborhood'] == 'BrDale', 'Neighborhood'] = 25\n",
    "\n",
    "\n",
    "trainDF['Neighborhood'] = np.int64(trainDF['Neighborhood'])\n",
    "\n",
    "trainDF\n",
    "\n"
   ]
  },
  {
   "cell_type": "markdown",
   "id": "b1e9f9a6",
   "metadata": {},
   "source": [
    "There are no missing values in the data that I chose to use to train my model. When I was analysing the graphs however, I wanted to use variables that weren't numeric in order to predict housing price. In order to do this I had to create a seperate dataframe to sort the values of one non-numeric variable based on the sale price. After this step, when I went to plot the scatter plot I was able to tell whether there was correlation. Finally, for the variables that I saw correlation in, I changed their data type to numeric so that I can apply the 'corr' function to them. For example, using neighborhood data, I first just plotted it without sorting the values and it was very hard to tell whether there was correlation as there was no linear regression between X and Y. When I sorted the values of neighborhood based on sale price however, it was clear that there was strong correlation between X and Y, then I changed each neighborhood to a number according to what saleprice they are correlated most with, for the neighborhoods that were not in the dataset, I added them at random in the model knowing that in the future, if I get data from those neighborhoods, I will add them according do their sale price as a rank. The steps I took to reshape the data are given in data exploration as I had to clean the data in order to explore it. I did create a new dataframe with all of the variables I decided to use from the exploration stage and sorted it by SalesPrice so that it is more organized and easier to analyze."
   ]
  },
  {
   "cell_type": "markdown",
   "id": "2c0d437a",
   "metadata": {},
   "source": [
    "[Back To Top](#Index)"
   ]
  },
  {
   "cell_type": "markdown",
   "id": "52674581",
   "metadata": {},
   "source": [
    "### 2.4 Correlation <a class=\"anchor\" id=\"Correlation\"><a/> "
   ]
  },
  {
   "cell_type": "code",
   "execution_count": 99,
   "id": "e152e84b",
   "metadata": {},
   "outputs": [
    {
     "data": {
      "text/html": [
       "<div>\n",
       "<style scoped>\n",
       "    .dataframe tbody tr th:only-of-type {\n",
       "        vertical-align: middle;\n",
       "    }\n",
       "\n",
       "    .dataframe tbody tr th {\n",
       "        vertical-align: top;\n",
       "    }\n",
       "\n",
       "    .dataframe thead th {\n",
       "        text-align: right;\n",
       "    }\n",
       "</style>\n",
       "<table border=\"1\" class=\"dataframe\">\n",
       "  <thead>\n",
       "    <tr style=\"text-align: right;\">\n",
       "      <th></th>\n",
       "      <th>SalePrice</th>\n",
       "      <th>OverallQual</th>\n",
       "      <th>OverallCond</th>\n",
       "      <th>BldgType</th>\n",
       "      <th>Neighborhood</th>\n",
       "      <th>TotRmsAbvGrd</th>\n",
       "      <th>GrLivArea</th>\n",
       "      <th>FullBath</th>\n",
       "      <th>KitchenQual</th>\n",
       "    </tr>\n",
       "  </thead>\n",
       "  <tbody>\n",
       "    <tr>\n",
       "      <th>SalePrice</th>\n",
       "      <td>1.000000</td>\n",
       "      <td>0.855061</td>\n",
       "      <td>-0.170443</td>\n",
       "      <td>-0.012190</td>\n",
       "      <td>0.780883</td>\n",
       "      <td>0.553603</td>\n",
       "      <td>0.735129</td>\n",
       "      <td>0.579505</td>\n",
       "      <td>0.622146</td>\n",
       "    </tr>\n",
       "    <tr>\n",
       "      <th>OverallQual</th>\n",
       "      <td>0.855061</td>\n",
       "      <td>1.000000</td>\n",
       "      <td>-0.154939</td>\n",
       "      <td>0.077427</td>\n",
       "      <td>0.688240</td>\n",
       "      <td>0.550755</td>\n",
       "      <td>0.673248</td>\n",
       "      <td>0.600099</td>\n",
       "      <td>0.623737</td>\n",
       "    </tr>\n",
       "    <tr>\n",
       "      <th>OverallCond</th>\n",
       "      <td>-0.170443</td>\n",
       "      <td>-0.154939</td>\n",
       "      <td>1.000000</td>\n",
       "      <td>-0.061342</td>\n",
       "      <td>-0.131437</td>\n",
       "      <td>-0.257731</td>\n",
       "      <td>-0.362534</td>\n",
       "      <td>-0.242930</td>\n",
       "      <td>-0.186308</td>\n",
       "    </tr>\n",
       "    <tr>\n",
       "      <th>BldgType</th>\n",
       "      <td>-0.012190</td>\n",
       "      <td>0.077427</td>\n",
       "      <td>-0.061342</td>\n",
       "      <td>1.000000</td>\n",
       "      <td>0.066679</td>\n",
       "      <td>-0.065545</td>\n",
       "      <td>-0.024872</td>\n",
       "      <td>0.150591</td>\n",
       "      <td>0.076835</td>\n",
       "    </tr>\n",
       "    <tr>\n",
       "      <th>Neighborhood</th>\n",
       "      <td>0.780883</td>\n",
       "      <td>0.688240</td>\n",
       "      <td>-0.131437</td>\n",
       "      <td>0.066679</td>\n",
       "      <td>1.000000</td>\n",
       "      <td>0.360740</td>\n",
       "      <td>0.567601</td>\n",
       "      <td>0.503868</td>\n",
       "      <td>0.473238</td>\n",
       "    </tr>\n",
       "    <tr>\n",
       "      <th>TotRmsAbvGrd</th>\n",
       "      <td>0.553603</td>\n",
       "      <td>0.550755</td>\n",
       "      <td>-0.257731</td>\n",
       "      <td>-0.065545</td>\n",
       "      <td>0.360740</td>\n",
       "      <td>1.000000</td>\n",
       "      <td>0.831927</td>\n",
       "      <td>0.741525</td>\n",
       "      <td>0.340136</td>\n",
       "    </tr>\n",
       "    <tr>\n",
       "      <th>GrLivArea</th>\n",
       "      <td>0.735129</td>\n",
       "      <td>0.673248</td>\n",
       "      <td>-0.362534</td>\n",
       "      <td>-0.024872</td>\n",
       "      <td>0.567601</td>\n",
       "      <td>0.831927</td>\n",
       "      <td>1.000000</td>\n",
       "      <td>0.707629</td>\n",
       "      <td>0.409340</td>\n",
       "    </tr>\n",
       "    <tr>\n",
       "      <th>FullBath</th>\n",
       "      <td>0.579505</td>\n",
       "      <td>0.600099</td>\n",
       "      <td>-0.242930</td>\n",
       "      <td>0.150591</td>\n",
       "      <td>0.503868</td>\n",
       "      <td>0.741525</td>\n",
       "      <td>0.707629</td>\n",
       "      <td>1.000000</td>\n",
       "      <td>0.377177</td>\n",
       "    </tr>\n",
       "    <tr>\n",
       "      <th>KitchenQual</th>\n",
       "      <td>0.622146</td>\n",
       "      <td>0.623737</td>\n",
       "      <td>-0.186308</td>\n",
       "      <td>0.076835</td>\n",
       "      <td>0.473238</td>\n",
       "      <td>0.340136</td>\n",
       "      <td>0.409340</td>\n",
       "      <td>0.377177</td>\n",
       "      <td>1.000000</td>\n",
       "    </tr>\n",
       "  </tbody>\n",
       "</table>\n",
       "</div>"
      ],
      "text/plain": [
       "              SalePrice  OverallQual  OverallCond  BldgType  Neighborhood  \\\n",
       "SalePrice      1.000000     0.855061    -0.170443 -0.012190      0.780883   \n",
       "OverallQual    0.855061     1.000000    -0.154939  0.077427      0.688240   \n",
       "OverallCond   -0.170443    -0.154939     1.000000 -0.061342     -0.131437   \n",
       "BldgType      -0.012190     0.077427    -0.061342  1.000000      0.066679   \n",
       "Neighborhood   0.780883     0.688240    -0.131437  0.066679      1.000000   \n",
       "TotRmsAbvGrd   0.553603     0.550755    -0.257731 -0.065545      0.360740   \n",
       "GrLivArea      0.735129     0.673248    -0.362534 -0.024872      0.567601   \n",
       "FullBath       0.579505     0.600099    -0.242930  0.150591      0.503868   \n",
       "KitchenQual    0.622146     0.623737    -0.186308  0.076835      0.473238   \n",
       "\n",
       "              TotRmsAbvGrd  GrLivArea  FullBath  KitchenQual  \n",
       "SalePrice         0.553603   0.735129  0.579505     0.622146  \n",
       "OverallQual       0.550755   0.673248  0.600099     0.623737  \n",
       "OverallCond      -0.257731  -0.362534 -0.242930    -0.186308  \n",
       "BldgType         -0.065545  -0.024872  0.150591     0.076835  \n",
       "Neighborhood      0.360740   0.567601  0.503868     0.473238  \n",
       "TotRmsAbvGrd      1.000000   0.831927  0.741525     0.340136  \n",
       "GrLivArea         0.831927   1.000000  0.707629     0.409340  \n",
       "FullBath          0.741525   0.707629  1.000000     0.377177  \n",
       "KitchenQual       0.340136   0.409340  0.377177     1.000000  "
      ]
     },
     "execution_count": 99,
     "metadata": {},
     "output_type": "execute_result"
    }
   ],
   "source": [
    "corr = trainDF.corr()\n",
    "corr"
   ]
  },
  {
   "cell_type": "markdown",
   "id": "ccbbbbf5",
   "metadata": {},
   "source": [
    "Based on the results in the correlation DF above, I will remove the variables OverallCond and BldgType as they have no positive correlation with SalePrice. Moving on, I will apply all the other variables to the linear_model function to create an effective model in determining sale price of a house."
   ]
  },
  {
   "cell_type": "markdown",
   "id": "04eb4b39",
   "metadata": {},
   "source": [
    "[Back To Top](#Index)"
   ]
  },
  {
   "cell_type": "markdown",
   "id": "8f9cc9d6",
   "metadata": {},
   "source": [
    "## Project Description<a class=\"anchor\" id=\"Project-Description\"><a/> "
   ]
  },
  {
   "cell_type": "markdown",
   "id": "f327fa84",
   "metadata": {},
   "source": [
    "### 3.1 Linear Regression <a class=\"anchor\" id=\"Linear Regression\"><a/> \n",
    "\n",
    "The algorithm I used in this project functions to determine which data points of a house correlate most with the rise in sale price of that same house. Firstly, by cleaning the data, it sets all variables as the same data types so that we can easily compare which has the most weight in determining the price of a house. It also sorts the variables by SalePrice so the user can see with more clarity  which values of each variable are better for the sale of a house. \n",
    "\n",
    "Linear regression is a fundamental statistical method used for modeling the relationship between a dependent variable (Y) and one or more independent variables (X). It assumes a linear relationship between these variables, meaning that Y can be expressed as a linear combination of X. The origin of linear regression dates back to the early 19th century, with the method being formalized by Francis Galton in the late 19th century.\n",
    "\n",
    "Formulas:\n",
    "\n",
    "Simple Linear Regression : y = m(x) + b\n",
    "\n",
    "Multiple Linear Regression: y = m1x1 + m2x2 +m3x3... mnxn + b\n",
    "\n",
    "The necessary steps to implement this algorithm in python are to load the data, determine which variables you want to use by getting a glimpse by plotting each of them against sale price. Clean the data and determine which variables are useful for the algorithm. Get rid of the variables that have little to no correlation with sale price, and then implement linear_model functions to get an R score which will determine how successful your model is in determining the sale price of a house. Then test the function against new data and compare.\n"
   ]
  },
  {
   "cell_type": "markdown",
   "id": "3975675e",
   "metadata": {},
   "source": [
    "[Back To Top](#Index)"
   ]
  },
  {
   "cell_type": "markdown",
   "id": "fdeae776",
   "metadata": {},
   "source": [
    "### 3.2 Analysis <a class=\"anchor\" id=\"Analysis\"><a/> "
   ]
  },
  {
   "cell_type": "code",
   "execution_count": 100,
   "id": "f1db34d1",
   "metadata": {},
   "outputs": [],
   "source": [
    "# First group of variables:\n",
    "x1 = trainDF[['Neighborhood','OverallQual','GrLivArea','KitchenQual','FullBath','TotRmsAbvGrd']]\n",
    "#Second group of variables:\n",
    "x2 = trainDF[['KitchenQual','Neighborhood', 'TotRmsAbvGrd','FullBath']]\n",
    "#Third group of variables:\n",
    "x3 = trainDF[['FullBath','Neighborhood','OverallQual']]\n",
    "#Set dependent variable equal to y:\n",
    "y = trainDF['SalePrice']\n",
    "\n",
    "lr = linear_model.LinearRegression()"
   ]
  },
  {
   "cell_type": "code",
   "execution_count": 113,
   "id": "a6b8e777",
   "metadata": {},
   "outputs": [
    {
     "data": {
      "text/plain": [
       "0.8419571383909007"
      ]
     },
     "execution_count": 113,
     "metadata": {},
     "output_type": "execute_result"
    }
   ],
   "source": [
    "# First Model\n",
    "model = lr.fit(x1,y)\n",
    "predictions = model.predict(x1)\n",
    "model.score(x1,y)"
   ]
  },
  {
   "cell_type": "code",
   "execution_count": 102,
   "id": "c6c755b4",
   "metadata": {},
   "outputs": [
    {
     "data": {
      "text/plain": [
       "0.7484386903516197"
      ]
     },
     "execution_count": 102,
     "metadata": {},
     "output_type": "execute_result"
    }
   ],
   "source": [
    "# Second Model\n",
    "model1 = lr.fit(x2,y)\n",
    "predictions2 = model1.predict(x2)\n",
    "model.score(x2,y)"
   ]
  },
  {
   "cell_type": "code",
   "execution_count": 103,
   "id": "30022628",
   "metadata": {},
   "outputs": [
    {
     "data": {
      "text/plain": [
       "0.8032214162528036"
      ]
     },
     "execution_count": 103,
     "metadata": {},
     "output_type": "execute_result"
    }
   ],
   "source": [
    "# Third Model\n",
    "model2 = lr.fit(x3,y)\n",
    "predictions3 = model2.predict(x3)\n",
    "model.score(x3,y)"
   ]
  },
  {
   "cell_type": "markdown",
   "id": "3254ea8e",
   "metadata": {},
   "source": [
    "[Back To Top](#Index)"
   ]
  },
  {
   "cell_type": "markdown",
   "id": "10e3b9c2",
   "metadata": {},
   "source": [
    "### 3.3 Results <a class=\"anchor\" id=\"Results\"><a/> "
   ]
  },
  {
   "cell_type": "markdown",
   "id": "2d7a5c2b",
   "metadata": {},
   "source": [
    "Below the cell I have plotted the three predictions of the model against the actual data to see which predictions where most accurate. According to the R score, The first model is the most accurate but scatter plots will allow us to better visualize the results and make more informed decisions on which model to use for the future."
   ]
  },
  {
   "cell_type": "code",
   "execution_count": 104,
   "id": "673f324a",
   "metadata": {},
   "outputs": [
    {
     "data": {
      "text/plain": [
       "<matplotlib.collections.PathCollection at 0x7fe8295d7e50>"
      ]
     },
     "execution_count": 104,
     "metadata": {},
     "output_type": "execute_result"
    },
    {
     "data": {
      "image/png": "[encoded data removed]",
      "text/plain": [
       "<Figure size 432x288 with 1 Axes>"
      ]
     },
     "metadata": {
      "needs_background": "light"
     },
     "output_type": "display_data"
    }
   ],
   "source": [
    "# Plot first Model (actual Y values vs predicted)\n",
    "plt.scatter(predictions,y)"
   ]
  },
  {
   "cell_type": "code",
   "execution_count": 105,
   "id": "9ef907b8",
   "metadata": {},
   "outputs": [
    {
     "data": {
      "text/plain": [
       "<matplotlib.collections.PathCollection at 0x7fe829718310>"
      ]
     },
     "execution_count": 105,
     "metadata": {},
     "output_type": "execute_result"
    },
    {
     "data": {
      "image/png": "[encoded data removed]",
      "text/plain": [
       "<Figure size 432x288 with 1 Axes>"
      ]
     },
     "metadata": {
      "needs_background": "light"
     },
     "output_type": "display_data"
    }
   ],
   "source": [
    "# Plot second model (actual Y values vs predicted)\n",
    "plt.scatter(predictions1,y)"
   ]
  },
  {
   "cell_type": "code",
   "execution_count": 106,
   "id": "1105a9ac",
   "metadata": {},
   "outputs": [
    {
     "data": {
      "text/plain": [
       "<matplotlib.collections.PathCollection at 0x7fe82939b880>"
      ]
     },
     "execution_count": 106,
     "metadata": {},
     "output_type": "execute_result"
    },
    {
     "data": {
      "image/png": "[encoded data removed]",
      "text/plain": [
       "<Figure size 432x288 with 1 Axes>"
      ]
     },
     "metadata": {
      "needs_background": "light"
     },
     "output_type": "display_data"
    }
   ],
   "source": [
    "# Plot third model (actual Y values vs predicted)\n",
    "plt.scatter(predictions2,y)"
   ]
  },
  {
   "cell_type": "markdown",
   "id": "ea035241",
   "metadata": {},
   "source": [
    "[Back To Top](#Index)"
   ]
  },
  {
   "cell_type": "markdown",
   "id": "acf26163",
   "metadata": {},
   "source": [
    "### 3.4 Verify againts test data <a class=\"anchor\" id=\"Verify-against-test-data\"><a/> "
   ]
  },
  {
   "cell_type": "code",
   "execution_count": 107,
   "id": "649d96d0",
   "metadata": {},
   "outputs": [
    {
     "data": {
      "text/html": [
       "<div>\n",
       "<style scoped>\n",
       "    .dataframe tbody tr th:only-of-type {\n",
       "        vertical-align: middle;\n",
       "    }\n",
       "\n",
       "    .dataframe tbody tr th {\n",
       "        vertical-align: top;\n",
       "    }\n",
       "\n",
       "    .dataframe thead th {\n",
       "        text-align: right;\n",
       "    }\n",
       "</style>\n",
       "<table border=\"1\" class=\"dataframe\">\n",
       "  <thead>\n",
       "    <tr style=\"text-align: right;\">\n",
       "      <th></th>\n",
       "      <th>Unnamed: 0</th>\n",
       "      <th>Id</th>\n",
       "      <th>MSSubClass</th>\n",
       "      <th>MSZoning</th>\n",
       "      <th>LotFrontage</th>\n",
       "      <th>LotArea</th>\n",
       "      <th>Street</th>\n",
       "      <th>Alley</th>\n",
       "      <th>LotShape</th>\n",
       "      <th>LandContour</th>\n",
       "      <th>...</th>\n",
       "      <th>PoolArea</th>\n",
       "      <th>PoolQC</th>\n",
       "      <th>Fence</th>\n",
       "      <th>MiscFeature</th>\n",
       "      <th>MiscVal</th>\n",
       "      <th>MoSold</th>\n",
       "      <th>YrSold</th>\n",
       "      <th>SaleType</th>\n",
       "      <th>SaleCondition</th>\n",
       "      <th>SalePrice</th>\n",
       "    </tr>\n",
       "  </thead>\n",
       "  <tbody>\n",
       "    <tr>\n",
       "      <th>0</th>\n",
       "      <td>100</td>\n",
       "      <td>101</td>\n",
       "      <td>20</td>\n",
       "      <td>RL</td>\n",
       "      <td>NaN</td>\n",
       "      <td>10603</td>\n",
       "      <td>Pave</td>\n",
       "      <td>NaN</td>\n",
       "      <td>IR1</td>\n",
       "      <td>Lvl</td>\n",
       "      <td>...</td>\n",
       "      <td>0</td>\n",
       "      <td>NaN</td>\n",
       "      <td>NaN</td>\n",
       "      <td>NaN</td>\n",
       "      <td>0</td>\n",
       "      <td>2</td>\n",
       "      <td>2010</td>\n",
       "      <td>WD</td>\n",
       "      <td>Normal</td>\n",
       "      <td>205000</td>\n",
       "    </tr>\n",
       "    <tr>\n",
       "      <th>1</th>\n",
       "      <td>101</td>\n",
       "      <td>102</td>\n",
       "      <td>60</td>\n",
       "      <td>RL</td>\n",
       "      <td>77.0</td>\n",
       "      <td>9206</td>\n",
       "      <td>Pave</td>\n",
       "      <td>NaN</td>\n",
       "      <td>Reg</td>\n",
       "      <td>Lvl</td>\n",
       "      <td>...</td>\n",
       "      <td>0</td>\n",
       "      <td>NaN</td>\n",
       "      <td>NaN</td>\n",
       "      <td>NaN</td>\n",
       "      <td>0</td>\n",
       "      <td>6</td>\n",
       "      <td>2010</td>\n",
       "      <td>WD</td>\n",
       "      <td>Normal</td>\n",
       "      <td>178000</td>\n",
       "    </tr>\n",
       "    <tr>\n",
       "      <th>2</th>\n",
       "      <td>102</td>\n",
       "      <td>103</td>\n",
       "      <td>90</td>\n",
       "      <td>RL</td>\n",
       "      <td>64.0</td>\n",
       "      <td>7018</td>\n",
       "      <td>Pave</td>\n",
       "      <td>NaN</td>\n",
       "      <td>Reg</td>\n",
       "      <td>Bnk</td>\n",
       "      <td>...</td>\n",
       "      <td>0</td>\n",
       "      <td>NaN</td>\n",
       "      <td>NaN</td>\n",
       "      <td>NaN</td>\n",
       "      <td>0</td>\n",
       "      <td>6</td>\n",
       "      <td>2009</td>\n",
       "      <td>WD</td>\n",
       "      <td>Alloca</td>\n",
       "      <td>118964</td>\n",
       "    </tr>\n",
       "    <tr>\n",
       "      <th>3</th>\n",
       "      <td>103</td>\n",
       "      <td>104</td>\n",
       "      <td>20</td>\n",
       "      <td>RL</td>\n",
       "      <td>94.0</td>\n",
       "      <td>10402</td>\n",
       "      <td>Pave</td>\n",
       "      <td>NaN</td>\n",
       "      <td>IR1</td>\n",
       "      <td>Lvl</td>\n",
       "      <td>...</td>\n",
       "      <td>0</td>\n",
       "      <td>NaN</td>\n",
       "      <td>NaN</td>\n",
       "      <td>NaN</td>\n",
       "      <td>0</td>\n",
       "      <td>5</td>\n",
       "      <td>2010</td>\n",
       "      <td>WD</td>\n",
       "      <td>Normal</td>\n",
       "      <td>198900</td>\n",
       "    </tr>\n",
       "    <tr>\n",
       "      <th>4</th>\n",
       "      <td>104</td>\n",
       "      <td>105</td>\n",
       "      <td>50</td>\n",
       "      <td>RM</td>\n",
       "      <td>NaN</td>\n",
       "      <td>7758</td>\n",
       "      <td>Pave</td>\n",
       "      <td>NaN</td>\n",
       "      <td>Reg</td>\n",
       "      <td>Lvl</td>\n",
       "      <td>...</td>\n",
       "      <td>0</td>\n",
       "      <td>NaN</td>\n",
       "      <td>NaN</td>\n",
       "      <td>NaN</td>\n",
       "      <td>0</td>\n",
       "      <td>6</td>\n",
       "      <td>2007</td>\n",
       "      <td>WD</td>\n",
       "      <td>Normal</td>\n",
       "      <td>169500</td>\n",
       "    </tr>\n",
       "    <tr>\n",
       "      <th>...</th>\n",
       "      <td>...</td>\n",
       "      <td>...</td>\n",
       "      <td>...</td>\n",
       "      <td>...</td>\n",
       "      <td>...</td>\n",
       "      <td>...</td>\n",
       "      <td>...</td>\n",
       "      <td>...</td>\n",
       "      <td>...</td>\n",
       "      <td>...</td>\n",
       "      <td>...</td>\n",
       "      <td>...</td>\n",
       "      <td>...</td>\n",
       "      <td>...</td>\n",
       "      <td>...</td>\n",
       "      <td>...</td>\n",
       "      <td>...</td>\n",
       "      <td>...</td>\n",
       "      <td>...</td>\n",
       "      <td>...</td>\n",
       "      <td>...</td>\n",
       "    </tr>\n",
       "    <tr>\n",
       "      <th>95</th>\n",
       "      <td>195</td>\n",
       "      <td>196</td>\n",
       "      <td>160</td>\n",
       "      <td>RL</td>\n",
       "      <td>24.0</td>\n",
       "      <td>2280</td>\n",
       "      <td>Pave</td>\n",
       "      <td>NaN</td>\n",
       "      <td>Reg</td>\n",
       "      <td>Lvl</td>\n",
       "      <td>...</td>\n",
       "      <td>0</td>\n",
       "      <td>NaN</td>\n",
       "      <td>NaN</td>\n",
       "      <td>NaN</td>\n",
       "      <td>0</td>\n",
       "      <td>7</td>\n",
       "      <td>2009</td>\n",
       "      <td>WD</td>\n",
       "      <td>Normal</td>\n",
       "      <td>148500</td>\n",
       "    </tr>\n",
       "    <tr>\n",
       "      <th>96</th>\n",
       "      <td>196</td>\n",
       "      <td>197</td>\n",
       "      <td>20</td>\n",
       "      <td>RL</td>\n",
       "      <td>79.0</td>\n",
       "      <td>9416</td>\n",
       "      <td>Pave</td>\n",
       "      <td>NaN</td>\n",
       "      <td>Reg</td>\n",
       "      <td>Lvl</td>\n",
       "      <td>...</td>\n",
       "      <td>0</td>\n",
       "      <td>NaN</td>\n",
       "      <td>NaN</td>\n",
       "      <td>NaN</td>\n",
       "      <td>0</td>\n",
       "      <td>9</td>\n",
       "      <td>2007</td>\n",
       "      <td>New</td>\n",
       "      <td>Partial</td>\n",
       "      <td>311872</td>\n",
       "    </tr>\n",
       "    <tr>\n",
       "      <th>97</th>\n",
       "      <td>197</td>\n",
       "      <td>198</td>\n",
       "      <td>75</td>\n",
       "      <td>RL</td>\n",
       "      <td>174.0</td>\n",
       "      <td>25419</td>\n",
       "      <td>Pave</td>\n",
       "      <td>NaN</td>\n",
       "      <td>Reg</td>\n",
       "      <td>Lvl</td>\n",
       "      <td>...</td>\n",
       "      <td>512</td>\n",
       "      <td>Ex</td>\n",
       "      <td>GdPrv</td>\n",
       "      <td>NaN</td>\n",
       "      <td>0</td>\n",
       "      <td>3</td>\n",
       "      <td>2006</td>\n",
       "      <td>WD</td>\n",
       "      <td>Abnorml</td>\n",
       "      <td>235000</td>\n",
       "    </tr>\n",
       "    <tr>\n",
       "      <th>98</th>\n",
       "      <td>198</td>\n",
       "      <td>199</td>\n",
       "      <td>75</td>\n",
       "      <td>RM</td>\n",
       "      <td>92.0</td>\n",
       "      <td>5520</td>\n",
       "      <td>Pave</td>\n",
       "      <td>NaN</td>\n",
       "      <td>Reg</td>\n",
       "      <td>Lvl</td>\n",
       "      <td>...</td>\n",
       "      <td>0</td>\n",
       "      <td>NaN</td>\n",
       "      <td>MnPrv</td>\n",
       "      <td>NaN</td>\n",
       "      <td>0</td>\n",
       "      <td>7</td>\n",
       "      <td>2009</td>\n",
       "      <td>WD</td>\n",
       "      <td>Abnorml</td>\n",
       "      <td>104000</td>\n",
       "    </tr>\n",
       "    <tr>\n",
       "      <th>99</th>\n",
       "      <td>199</td>\n",
       "      <td>200</td>\n",
       "      <td>20</td>\n",
       "      <td>RL</td>\n",
       "      <td>76.0</td>\n",
       "      <td>9591</td>\n",
       "      <td>Pave</td>\n",
       "      <td>NaN</td>\n",
       "      <td>Reg</td>\n",
       "      <td>Lvl</td>\n",
       "      <td>...</td>\n",
       "      <td>0</td>\n",
       "      <td>NaN</td>\n",
       "      <td>NaN</td>\n",
       "      <td>NaN</td>\n",
       "      <td>0</td>\n",
       "      <td>1</td>\n",
       "      <td>2009</td>\n",
       "      <td>WD</td>\n",
       "      <td>Normal</td>\n",
       "      <td>274900</td>\n",
       "    </tr>\n",
       "  </tbody>\n",
       "</table>\n",
       "<p>100 rows × 82 columns</p>\n",
       "</div>"
      ],
      "text/plain": [
       "    Unnamed: 0   Id  MSSubClass MSZoning  LotFrontage  LotArea Street Alley  \\\n",
       "0          100  101          20       RL          NaN    10603   Pave   NaN   \n",
       "1          101  102          60       RL         77.0     9206   Pave   NaN   \n",
       "2          102  103          90       RL         64.0     7018   Pave   NaN   \n",
       "3          103  104          20       RL         94.0    10402   Pave   NaN   \n",
       "4          104  105          50       RM          NaN     7758   Pave   NaN   \n",
       "..         ...  ...         ...      ...          ...      ...    ...   ...   \n",
       "95         195  196         160       RL         24.0     2280   Pave   NaN   \n",
       "96         196  197          20       RL         79.0     9416   Pave   NaN   \n",
       "97         197  198          75       RL        174.0    25419   Pave   NaN   \n",
       "98         198  199          75       RM         92.0     5520   Pave   NaN   \n",
       "99         199  200          20       RL         76.0     9591   Pave   NaN   \n",
       "\n",
       "   LotShape LandContour  ... PoolArea PoolQC  Fence MiscFeature MiscVal  \\\n",
       "0       IR1         Lvl  ...        0    NaN    NaN         NaN       0   \n",
       "1       Reg         Lvl  ...        0    NaN    NaN         NaN       0   \n",
       "2       Reg         Bnk  ...        0    NaN    NaN         NaN       0   \n",
       "3       IR1         Lvl  ...        0    NaN    NaN         NaN       0   \n",
       "4       Reg         Lvl  ...        0    NaN    NaN         NaN       0   \n",
       "..      ...         ...  ...      ...    ...    ...         ...     ...   \n",
       "95      Reg         Lvl  ...        0    NaN    NaN         NaN       0   \n",
       "96      Reg         Lvl  ...        0    NaN    NaN         NaN       0   \n",
       "97      Reg         Lvl  ...      512     Ex  GdPrv         NaN       0   \n",
       "98      Reg         Lvl  ...        0    NaN  MnPrv         NaN       0   \n",
       "99      Reg         Lvl  ...        0    NaN    NaN         NaN       0   \n",
       "\n",
       "   MoSold YrSold SaleType  SaleCondition  SalePrice  \n",
       "0       2   2010       WD         Normal     205000  \n",
       "1       6   2010       WD         Normal     178000  \n",
       "2       6   2009       WD         Alloca     118964  \n",
       "3       5   2010       WD         Normal     198900  \n",
       "4       6   2007       WD         Normal     169500  \n",
       "..    ...    ...      ...            ...        ...  \n",
       "95      7   2009       WD         Normal     148500  \n",
       "96      9   2007      New        Partial     311872  \n",
       "97      3   2006       WD        Abnorml     235000  \n",
       "98      7   2009       WD        Abnorml     104000  \n",
       "99      1   2009       WD         Normal     274900  \n",
       "\n",
       "[100 rows x 82 columns]"
      ]
     },
     "execution_count": 107,
     "metadata": {},
     "output_type": "execute_result"
    }
   ],
   "source": [
    "testData = pd.read_csv('jtest.csv')\n",
    "testData"
   ]
  },
  {
   "cell_type": "code",
   "execution_count": 110,
   "id": "ea1b97ed",
   "metadata": {},
   "outputs": [
    {
     "data": {
      "text/html": [
       "<div>\n",
       "<style scoped>\n",
       "    .dataframe tbody tr th:only-of-type {\n",
       "        vertical-align: middle;\n",
       "    }\n",
       "\n",
       "    .dataframe tbody tr th {\n",
       "        vertical-align: top;\n",
       "    }\n",
       "\n",
       "    .dataframe thead th {\n",
       "        text-align: right;\n",
       "    }\n",
       "</style>\n",
       "<table border=\"1\" class=\"dataframe\">\n",
       "  <thead>\n",
       "    <tr style=\"text-align: right;\">\n",
       "      <th></th>\n",
       "      <th>SalePrice</th>\n",
       "      <th>OverallQual</th>\n",
       "      <th>OverallCond</th>\n",
       "      <th>BldgType</th>\n",
       "      <th>Neighborhood</th>\n",
       "      <th>TotRmsAbvGrd</th>\n",
       "      <th>GrLivArea</th>\n",
       "      <th>FullBath</th>\n",
       "      <th>KitchenQual</th>\n",
       "    </tr>\n",
       "  </thead>\n",
       "  <tbody>\n",
       "    <tr>\n",
       "      <th>55</th>\n",
       "      <td>79000</td>\n",
       "      <td>6</td>\n",
       "      <td>5</td>\n",
       "      <td>1</td>\n",
       "      <td>1</td>\n",
       "      <td>5</td>\n",
       "      <td>1096</td>\n",
       "      <td>1</td>\n",
       "      <td>1</td>\n",
       "    </tr>\n",
       "    <tr>\n",
       "      <th>25</th>\n",
       "      <td>84500</td>\n",
       "      <td>6</td>\n",
       "      <td>8</td>\n",
       "      <td>4</td>\n",
       "      <td>3</td>\n",
       "      <td>5</td>\n",
       "      <td>754</td>\n",
       "      <td>1</td>\n",
       "      <td>1</td>\n",
       "    </tr>\n",
       "    <tr>\n",
       "      <th>27</th>\n",
       "      <td>87000</td>\n",
       "      <td>5</td>\n",
       "      <td>7</td>\n",
       "      <td>1</td>\n",
       "      <td>5</td>\n",
       "      <td>5</td>\n",
       "      <td>840</td>\n",
       "      <td>1</td>\n",
       "      <td>1</td>\n",
       "    </tr>\n",
       "    <tr>\n",
       "      <th>79</th>\n",
       "      <td>100000</td>\n",
       "      <td>5</td>\n",
       "      <td>6</td>\n",
       "      <td>1</td>\n",
       "      <td>5</td>\n",
       "      <td>5</td>\n",
       "      <td>968</td>\n",
       "      <td>1</td>\n",
       "      <td>1</td>\n",
       "    </tr>\n",
       "    <tr>\n",
       "      <th>6</th>\n",
       "      <td>100000</td>\n",
       "      <td>4</td>\n",
       "      <td>7</td>\n",
       "      <td>1</td>\n",
       "      <td>5</td>\n",
       "      <td>6</td>\n",
       "      <td>1047</td>\n",
       "      <td>1</td>\n",
       "      <td>1</td>\n",
       "    </tr>\n",
       "    <tr>\n",
       "      <th>...</th>\n",
       "      <td>...</td>\n",
       "      <td>...</td>\n",
       "      <td>...</td>\n",
       "      <td>...</td>\n",
       "      <td>...</td>\n",
       "      <td>...</td>\n",
       "      <td>...</td>\n",
       "      <td>...</td>\n",
       "      <td>...</td>\n",
       "    </tr>\n",
       "    <tr>\n",
       "      <th>51</th>\n",
       "      <td>372402</td>\n",
       "      <td>8</td>\n",
       "      <td>5</td>\n",
       "      <td>1</td>\n",
       "      <td>19</td>\n",
       "      <td>6</td>\n",
       "      <td>1710</td>\n",
       "      <td>2</td>\n",
       "      <td>3</td>\n",
       "    </tr>\n",
       "    <tr>\n",
       "      <th>12</th>\n",
       "      <td>383970</td>\n",
       "      <td>7</td>\n",
       "      <td>5</td>\n",
       "      <td>1</td>\n",
       "      <td>10</td>\n",
       "      <td>10</td>\n",
       "      <td>2696</td>\n",
       "      <td>2</td>\n",
       "      <td>4</td>\n",
       "    </tr>\n",
       "    <tr>\n",
       "      <th>61</th>\n",
       "      <td>412500</td>\n",
       "      <td>9</td>\n",
       "      <td>5</td>\n",
       "      <td>1</td>\n",
       "      <td>19</td>\n",
       "      <td>10</td>\n",
       "      <td>2668</td>\n",
       "      <td>2</td>\n",
       "      <td>4</td>\n",
       "    </tr>\n",
       "    <tr>\n",
       "      <th>85</th>\n",
       "      <td>475000</td>\n",
       "      <td>10</td>\n",
       "      <td>9</td>\n",
       "      <td>1</td>\n",
       "      <td>5</td>\n",
       "      <td>12</td>\n",
       "      <td>3608</td>\n",
       "      <td>2</td>\n",
       "      <td>4</td>\n",
       "    </tr>\n",
       "    <tr>\n",
       "      <th>78</th>\n",
       "      <td>501837</td>\n",
       "      <td>9</td>\n",
       "      <td>5</td>\n",
       "      <td>1</td>\n",
       "      <td>22</td>\n",
       "      <td>9</td>\n",
       "      <td>2234</td>\n",
       "      <td>2</td>\n",
       "      <td>4</td>\n",
       "    </tr>\n",
       "  </tbody>\n",
       "</table>\n",
       "<p>100 rows × 9 columns</p>\n",
       "</div>"
      ],
      "text/plain": [
       "    SalePrice  OverallQual  OverallCond  BldgType  Neighborhood  TotRmsAbvGrd  \\\n",
       "55      79000            6            5         1             1             5   \n",
       "25      84500            6            8         4             3             5   \n",
       "27      87000            5            7         1             5             5   \n",
       "79     100000            5            6         1             5             5   \n",
       "6      100000            4            7         1             5             6   \n",
       "..        ...          ...          ...       ...           ...           ...   \n",
       "51     372402            8            5         1            19             6   \n",
       "12     383970            7            5         1            10            10   \n",
       "61     412500            9            5         1            19            10   \n",
       "85     475000           10            9         1             5            12   \n",
       "78     501837            9            5         1            22             9   \n",
       "\n",
       "    GrLivArea  FullBath KitchenQual  \n",
       "55       1096         1           1  \n",
       "25        754         1           1  \n",
       "27        840         1           1  \n",
       "79        968         1           1  \n",
       "6        1047         1           1  \n",
       "..        ...       ...         ...  \n",
       "51       1710         2           3  \n",
       "12       2696         2           4  \n",
       "61       2668         2           4  \n",
       "85       3608         2           4  \n",
       "78       2234         2           4  \n",
       "\n",
       "[100 rows x 9 columns]"
      ]
     },
     "execution_count": 110,
     "metadata": {},
     "output_type": "execute_result"
    }
   ],
   "source": [
    "# Clean this data so that the non-numeric data types are switched to numeric\n",
    "test = testData[['SalePrice','OverallQual','OverallCond','BldgType','Neighborhood','TotRmsAbvGrd','GrLivArea','FullBath','KitchenQual']].sort_values('SalePrice')\n",
    "test.loc[test['BldgType'] == '1Fam', 'BldgType'] = 1\n",
    "test.loc[test['BldgType'] == 'Duplex', 'BldgType'] = 2\n",
    "test.loc[test['BldgType'] == 'Twnhs', 'BldgType'] = 3\n",
    "test.loc[test['BldgType'] == '2fmCon', 'BldgType'] = 4\n",
    "test.loc[test['BldgType'] == 'TwnhsE', 'BldgType'] = 5\n",
    "\n",
    "test['BldgType'] = np.int64(test['BldgType'])\n",
    "\n",
    "test.loc[test['KitchenQual'] == 'Po', 'KitchenQual'] = 0\n",
    "test.loc[test['KitchenQual'] == 'TA', 'KitchenQual'] = 1\n",
    "test.loc[test['KitchenQual'] == 'Fa', 'KitchenQual'] = 2\n",
    "test.loc[test['KitchenQual'] == 'Gd', 'KitchenQual'] = 3\n",
    "test.loc[test['KitchenQual'] == 'Ex', 'KitchenQual'] = 4\n",
    "\n",
    "trainDF['KitchenQual'] = np.int64(trainDF['KitchenQual'])\n",
    "\n",
    "\n",
    "test.loc[test['Neighborhood'] == 'Edwards', 'Neighborhood'] = 1\n",
    "test.loc[test['Neighborhood'] == 'NPkVill', 'Neighborhood'] = 2\n",
    "test.loc[test['Neighborhood'] == 'IDOTRR', 'Neighborhood'] = 3\n",
    "test.loc[test['Neighborhood'] == 'BrkSide', 'Neighborhood'] = 4\n",
    "test.loc[test['Neighborhood'] == 'OldTown', 'Neighborhood'] = 5\n",
    "test.loc[test['Neighborhood'] == 'Edwards', 'Neighborhood'] = 6\n",
    "test.loc[test['Neighborhood'] == 'Sawyer', 'Neighborhood'] = 7\n",
    "test.loc[test['Neighborhood'] == 'MeadowV', 'Neighborhood'] = 8\n",
    "test.loc[test['Neighborhood'] == 'NAmes', 'Neighborhood'] = 9\n",
    "test.loc[test['Neighborhood'] == 'CollgCr', 'Neighborhood'] = 10\n",
    "test.loc[test['Neighborhood'] == 'Mitchel', 'Neighborhood'] = 11\n",
    "test.loc[test['Neighborhood'] == 'Crawfor', 'Neighborhood'] = 12\n",
    "test.loc[test['Neighborhood'] == 'SawyerW', 'Neighborhood'] = 13\n",
    "test.loc[test['Neighborhood'] == 'Somerst', 'Neighborhood'] = 14\n",
    "test.loc[test['Neighborhood'] == 'Gilbert', 'Neighborhood'] = 15\n",
    "test.loc[test['Neighborhood'] == 'Timber', 'Neighborhood'] = 16\n",
    "test.loc[test['Neighborhood'] == 'Veenker', 'Neighborhood'] = 17\n",
    "test.loc[test['Neighborhood'] == 'NWAmes', 'Neighborhood'] = 18\n",
    "test.loc[test['Neighborhood'] == 'NridgHt', 'Neighborhood'] = 19\n",
    "test.loc[test['Neighborhood'] == 'ClearCr', 'Neighborhood'] = 20\n",
    "test.loc[test['Neighborhood'] == 'NoRidge', 'Neighborhood'] = 21\n",
    "test.loc[test['Neighborhood'] == 'StoneBr', 'Neighborhood'] = 22\n",
    "test.loc[test['Neighborhood'] == 'Blmngtn', 'Neighborhood'] = 23\n",
    "test.loc[test['Neighborhood'] == 'Blueste', 'Neighborhood'] = 24\n",
    "test.loc[test['Neighborhood'] == 'BrDale', 'Neighborhood'] = 25\n",
    "\n",
    "test['Neighborhood'] = np.int64(test['Neighborhood'])\n",
    "\n",
    "test"
   ]
  },
  {
   "cell_type": "code",
   "execution_count": 114,
   "id": "a0e2dbbf",
   "metadata": {},
   "outputs": [
    {
     "data": {
      "text/plain": [
       "0.7614551786946563"
      ]
     },
     "execution_count": 114,
     "metadata": {},
     "output_type": "execute_result"
    }
   ],
   "source": [
    "X = test[['Neighborhood','OverallQual','GrLivArea','KitchenQual','FullBath','TotRmsAbvGrd']]\n",
    "Y = test['SalePrice']\n",
    "Predictions = model.predict(X)\n",
    "model.score(X,Y)"
   ]
  },
  {
   "cell_type": "code",
   "execution_count": 115,
   "id": "9c81a63d",
   "metadata": {},
   "outputs": [
    {
     "data": {
      "text/plain": [
       "(array([ 4.,  7., 47., 23.,  9.,  4.,  2.,  1.,  2.,  1.]),\n",
       " array([-75106.62753625, -50435.37779722, -25764.12805819,  -1092.87831917,\n",
       "         23578.37141986,  48249.62115889,  72920.87089792,  97592.12063695,\n",
       "        122263.37037598, 146934.62011501, 171605.86985404]),\n",
       " <BarContainer object of 10 artists>)"
      ]
     },
     "execution_count": 115,
     "metadata": {},
     "output_type": "execute_result"
    },
    {
     "data": {
      "image/png": "[encoded data removed]",
      "text/plain": [
       "<Figure size 432x288 with 1 Axes>"
      ]
     },
     "metadata": {
      "needs_background": "light"
     },
     "output_type": "display_data"
    }
   ],
   "source": [
    "plt.hist(Y-Predictions)"
   ]
  },
  {
   "cell_type": "code",
   "execution_count": 116,
   "id": "7fac2b96",
   "metadata": {},
   "outputs": [
    {
     "data": {
      "text/plain": [
       "<matplotlib.collections.PathCollection at 0x7fe82999ed30>"
      ]
     },
     "execution_count": 116,
     "metadata": {},
     "output_type": "execute_result"
    },
    {
     "data": {
      "image/png": "[encoded data removed]",
      "text/plain": [
       "<Figure size 432x288 with 1 Axes>"
      ]
     },
     "metadata": {
      "needs_background": "light"
     },
     "output_type": "display_data"
    }
   ],
   "source": [
    "plt.scatter(Predictions, Y)"
   ]
  },
  {
   "cell_type": "markdown",
   "id": "48998553",
   "metadata": {},
   "source": [
    "[Back To Top](#Index)"
   ]
  },
  {
   "cell_type": "markdown",
   "id": "05c66084",
   "metadata": {},
   "source": [
    "# Conclusion <a class=\"anchor\" id=\"Conclusion\"><a/> "
   ]
  },
  {
   "cell_type": "markdown",
   "id": "d9506181",
   "metadata": {},
   "source": [
    "To conclude this analysis, I found the variables that worked the best to predict each house sale price are: Neighborhood, OverallQual, GrLivArea, KitchenQual, FullBath, TotRmsAbvGrd. Not only do they product the highest R score in relation to house sale price data, but they also show us a tighter spread when we plot the predicted dependent variables against the actual variables. By executing this project myself, I learned how important it is to clean data and ensure data types are what you expect them to be, specially if you plan on doing some sort of predictive model with the data in the future."
   ]
  },
  {
   "cell_type": "markdown",
   "id": "0a245b2c",
   "metadata": {},
   "source": [
    "[Back To Top](#Index)"
   ]
  },
  {
   "cell_type": "markdown",
   "id": "762a2452",
   "metadata": {},
   "source": [
    "# References <a class=\"anchor\" id=\"References\"><a/> "
   ]
  },
  {
   "cell_type": "markdown",
   "id": "5db15dc8",
   "metadata": {},
   "source": [
    "Hunter, John. \"matplotlib.org.\" matplotlib. matplotlib development team. 2012-2023. https://matplotlib.org/stable/api/_as_gen/matplotlib.axes.Axes.tick_params.html"
   ]
  },
  {
   "cell_type": "markdown",
   "id": "e0ae9145",
   "metadata": {},
   "source": [
    "[Back To Top](#Index)"
   ]
  },
  {
   "cell_type": "code",
   "execution_count": null,
   "id": "86673837",
   "metadata": {},
   "outputs": [],
   "source": []
  }
 ],
 "metadata": {
  "kernelspec": {
   "display_name": "Python 3 (ipykernel)",
   "language": "python",
   "name": "python3"
  },
  "language_info": {
   "codemirror_mode": {
    "name": "ipython",
    "version": 3
   },
   "file_extension": ".py",
   "mimetype": "text/x-python",
   "name": "python",
   "nbconvert_exporter": "python",
   "pygments_lexer": "ipython3",
   "version": "3.9.12"
  }
 },
 "nbformat": 4,
 "nbformat_minor": 5
}
